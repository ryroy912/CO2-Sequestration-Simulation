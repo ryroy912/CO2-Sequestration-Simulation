{
  "nbformat": 4,
  "nbformat_minor": 0,
  "metadata": {
    "colab": {
      "provenance": []
    },
    "kernelspec": {
      "name": "python3",
      "display_name": "Python 3"
    },
    "language_info": {
      "name": "python"
    }
  },
  "cells": [
    {
      "cell_type": "code",
      "execution_count": 8,
      "metadata": {
        "colab": {
          "base_uri": "https://localhost:8080/"
        },
        "id": "BrP8b6l6SOoS",
        "outputId": "cfcc754c-b6d1-4798-c7dd-b02d91644a64"
      },
      "outputs": [
        {
          "output_type": "stream",
          "name": "stdout",
          "text": [
            "Drive already mounted at /content/drive; to attempt to forcibly remount, call drive.mount(\"/content/drive\", force_remount=True).\n"
          ]
        }
      ],
      "source": [
        "import pandas as pd\n",
        "import numpy as np\n",
        "import matplotlib.pyplot as plt\n",
        "\n",
        "from google.colab import drive\n",
        "drive.mount('/content/drive')\n",
        "\n",
        "\n",
        "# Load CSV files\n",
        "mse_df = pd.read_csv(\"drive/My Drive/DSSM-Figures/All_Model_MSE_Table.csv\")\n",
        "deviation_df = pd.read_csv(\"drive/My Drive/DSSM-Figures/Deviation_Summary_Table.csv\")\n",
        "\n",
        "# Define splits in order\n",
        "splits_order = ['80_20', '60_40', '50_50', '40_60', '20_80','10_90','5_95']\n",
        "Ssim_values = np.array([80, 60, 50, 40, 20, 10, 5])\n",
        "S_T = 101\n",
        "speedup_values = S_T / Ssim_values\n",
        "\n",
        "# Extract MSE values for DSSM-advanced\n",
        "mse_values = [\n",
        "    mse_df[mse_df['Model'] == 'DSSM-advanced'][split].values[0]\n",
        "    for split in splits_order\n",
        "]\n",
        "\n",
        "# Extract Accuracy = 100 - Percent_Deviant_Timesteps\n",
        "accuracy_percentages = [\n",
        "    100 - deviation_df[deviation_df['Split'] == split]['Percent_Deviant_Timeseries'].values[0]\n",
        "    for split in splits_order\n",
        "]\n",
        "\n",
        "# Plot 1: Accuracy and Speed-up vs Timestep\n",
        "fig, ax1 = plt.subplots(figsize=(10, 6))\n",
        "ax1.set_xlabel('Timestep (Ssim)', fontsize=14)\n",
        "ax1.set_ylabel('Accuracy (%)', color='tab:blue', fontsize=14)\n",
        "ax1.plot(Ssim_values, accuracy_percentages, marker='o', color='tab:blue', label='Accuracy')\n",
        "ax1.tick_params(axis='y', labelcolor='tab:blue')\n",
        "ax1.invert_xaxis()\n",
        "\n",
        "ax2 = ax1.twinx()\n",
        "ax2.set_ylabel('Speed-up', color='tab:red', fontsize=14)\n",
        "ax2.plot(Ssim_values, speedup_values, marker='s', linestyle='--', color='tab:red', label='Speed-up')\n",
        "ax2.tick_params(axis='y', labelcolor='tab:red')\n",
        "\n",
        "plt.title('Accuracy and Speed-up vs Timestep', fontsize=16)\n",
        "plt.grid(True)\n",
        "plt.tight_layout()\n",
        "plt.savefig('drive/My Drive/DSSM-Figures2/Speedup_and_Accuracy_vs_Loss.pdf', format='pdf', bbox_inches='tight')\n",
        "plt.close()\n",
        "\n",
        "# Plot 2: MSE Loss and Speed-up vs Timestep\n",
        "fig, ax1 = plt.subplots(figsize=(10, 6))\n",
        "ax1.set_xlabel('Timestep (Ssim)', fontsize=14)\n",
        "ax1.set_ylabel('MSE Loss', color='tab:green', fontsize=14)\n",
        "ax1.plot(Ssim_values, mse_values, marker='o', color='tab:green', label='MSE Loss')\n",
        "ax1.tick_params(axis='y', labelcolor='tab:green')\n",
        "ax1.invert_xaxis()\n",
        "\n",
        "ax2 = ax1.twinx()\n",
        "ax2.set_ylabel('Speed-up', color='tab:red', fontsize=14)\n",
        "ax2.plot(Ssim_values, speedup_values, marker='s', linestyle='--', color='tab:red', label='Speed-up')\n",
        "ax2.tick_params(axis='y', labelcolor='tab:red')\n",
        "\n",
        "plt.title('MSE Loss and Speed-up vs Timestep', fontsize=16)\n",
        "plt.grid(True)\n",
        "plt.tight_layout()\n",
        "plt.savefig('drive/My Drive/DSSM-Figures2/Speedup_and_MSE_vs_Loss.pdf', format='pdf', bbox_inches='tight')\n",
        "plt.close()"
      ]
    },
    {
      "cell_type": "code",
      "source": [],
      "metadata": {
        "id": "AnaAotQZSRZk"
      },
      "execution_count": null,
      "outputs": []
    }
  ]
}